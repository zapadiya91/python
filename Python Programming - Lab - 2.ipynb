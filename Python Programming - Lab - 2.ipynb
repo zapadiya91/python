{
 "cells": [
  {
   "cell_type": "markdown",
   "metadata": {},
   "source": [
    "\n",
    "<a href='https://www.darshan.ac.in/'> <img src='https://www.darshan.ac.in/Content/media/DU_Logo.svg' width=\"250\" height=\"300\"/></a>\n",
    "<pre>\n",
    "<center><b><h1>Python Programming - 2301CS404</b></center>\n",
    "<center><b><h1>Lab - 2</b></center>    \n",
    "<pre>"
   ]
  },
  {
   "cell_type": "markdown",
   "metadata": {},
   "source": [
    "# if..else.."
   ]
  },
  {
   "cell_type": "markdown",
   "metadata": {},
   "source": [
    "### 01) WAP to check whether the given number is positive or negative."
   ]
  },
  {
   "cell_type": "code",
   "execution_count": 2,
   "metadata": {},
   "outputs": [
    {
     "name": "stdout",
     "output_type": "stream",
     "text": [
      "Enter Number:54\n",
      "Possitive\n"
     ]
    }
   ],
   "source": [
    "n = int(input(\"Enter Number:\"))\n",
    "if(n>0):\n",
    " print(\"Possitive\")\n",
    "else:\n",
    " print(\"negative\")"
   ]
  },
  {
   "cell_type": "markdown",
   "metadata": {},
   "source": [
    "### 02) WAP to check whether the given number is odd or even."
   ]
  },
  {
   "cell_type": "code",
   "execution_count": 3,
   "metadata": {},
   "outputs": [
    {
     "name": "stdout",
     "output_type": "stream",
     "text": [
      "enter a number :154\n",
      "number is even\n"
     ]
    }
   ],
   "source": [
    "n = int(input(\"enter a number :\"))\n",
    "if(n%2==0):\n",
    "    print(\"number is even\")\n",
    "else:\n",
    "    print(\"number is odd\")"
   ]
  },
  {
   "cell_type": "markdown",
   "metadata": {},
   "source": [
    "### 03) WAP to find out largest number from given two numbers using simple if and ternary operator."
   ]
  },
  {
   "cell_type": "code",
   "execution_count": null,
   "metadata": {},
   "outputs": [],
   "source": [
    "num1 = int(input(\"Enter Number:\"))\n",
    "num2 = int(input(\"Enter Number:\"))\n",
    "if(num1>num2):\n",
    " print(f\"Number 1 is Large:{num1}\")\n",
    "else:\n",
    " print(f\"Number 2 is Large:{num2}\")\n"
   ]
  },
  {
   "cell_type": "code",
   "execution_count": 5,
   "metadata": {},
   "outputs": [
    {
     "name": "stdout",
     "output_type": "stream",
     "text": [
      "Enter Number:5\n",
      "Enter Number:45\n",
      "Numbe2 is large;45\n"
     ]
    }
   ],
   "source": [
    "num1 = int(input(\"Enter Number:\"))\n",
    "num2 = int(input(\"Enter Number:\"))\n",
    "print(f\"Number 1 is Large:{num1}\") if num1>num2 else print(f\"Numbe2 is large;{num2}\")"
   ]
  },
  {
   "cell_type": "markdown",
   "metadata": {},
   "source": [
    "### 04) WAP to find out largest number from given three numbers."
   ]
  },
  {
   "cell_type": "code",
   "execution_count": 7,
   "metadata": {
    "scrolled": true
   },
   "outputs": [
    {
     "name": "stdout",
     "output_type": "stream",
     "text": [
      "Enter Number:15\n",
      "Enter Number:54\n",
      "Enter Number:45\n",
      "Number 2 is Large:54\n"
     ]
    }
   ],
   "source": [
    "num1 = int(input(\"Enter Number:\"))\n",
    "num2 = int(input(\"Enter Number:\"))\n",
    "num3 = int(input(\"Enter Number:\"))\n",
    "if(num1>=num2):\n",
    " if(num1>=num3):\n",
    "     print(f\"Number 1 is Large:{num1}\")\n",
    " else:\n",
    "     print(f\"Number 3 is Large:{num3}\")\n",
    "else:\n",
    "     if(num2>=num3):\n",
    "         print(f\"Number 2 is Large:{num2}\")\n",
    "     else:\n",
    "         print(f\"Number 3 is Large:{num3}\")"
   ]
  },
  {
   "cell_type": "markdown",
   "metadata": {},
   "source": [
    "### 05) WAP to check whether the given year is leap year or not.\n",
    "[If a year can be divisible by 4 but not divisible by 100 then it is leap year but if it is divisible by 400 then it is leap year]"
   ]
  },
  {
   "cell_type": "code",
   "execution_count": 21,
   "metadata": {},
   "outputs": [
    {
     "name": "stdout",
     "output_type": "stream",
     "text": [
      "Enter Year:2005\n",
      "Year is not Leap Year:2005\n"
     ]
    }
   ],
   "source": [
    "year = int(input(\"Enter Year:\"))\n",
    "\n",
    "if(year%4==0):\n",
    "    if(year%100==0):\n",
    "        if(year%400==0):\n",
    "            print(f\"Year is Leap Year:{year}\")\n",
    "        else:\n",
    "            print(f\"Year is Not Leap Year:{year}\")\n",
    "    else:\n",
    "        print(f\"Year is Leap Year:{year}\")\n",
    "else:\n",
    "     print(f\"Year is not Leap Year:{year}\")\n"
   ]
  },
  {
   "cell_type": "markdown",
   "metadata": {},
   "source": [
    "### 06) WAP in python to display the name of the day according to the number given by the user."
   ]
  },
  {
   "cell_type": "code",
   "execution_count": 23,
   "metadata": {},
   "outputs": [
    {
     "name": "stdout",
     "output_type": "stream",
     "text": [
      "Enter 1-7 Number:5\n",
      "5:Friday\n"
     ]
    }
   ],
   "source": [
    "day = int(input(\"Enter 1-7 Number:\"))\n",
    "if(day==1):\n",
    " print(f\"{day}:Monday\")\n",
    "elif(day==2):\n",
    " print(f\"{day}:Tuesday\")\n",
    "elif(day==3):\n",
    " print(f\"{day}:Wednesday\")\n",
    "elif(day==4):\n",
    " print(f\"{day}:Thursday\")\n",
    "elif(day==5):\n",
    " print(f\"{day}:Friday\")\n",
    "elif(day==6):\n",
    " print(f\"{day}:saturday\")\n",
    "elif(day==7):\n",
    " print(f\"{day}:Sunday\")\n",
    "else:\n",
    " print(\"Enter Proper Day\")"
   ]
  },
  {
   "cell_type": "markdown",
   "metadata": {},
   "source": [
    "### 07) WAP to implement simple calculator which performs (add,sub,mul,div) of two no. based on user input."
   ]
  },
  {
   "cell_type": "code",
   "execution_count": 24,
   "metadata": {},
   "outputs": [
    {
     "name": "stdout",
     "output_type": "stream",
     "text": [
      "Enter 1st Number:45\n",
      "Enter 2nd Number:7\n",
      "Enter Choice 1.Add 2.sub 3.Mul 4.Div4\n",
      "Div:6.428571428571429\n"
     ]
    }
   ],
   "source": [
    "num1 = int(input(\"Enter 1st Number:\"))\n",
    "num2 = int(input(\"Enter 2nd Number:\"))\n",
    "choice = int(input(\"Enter Choice 1.Add 2.sub 3.Mul 4.Div\"))\n",
    "if(choice==1):\n",
    " print(f\"Add:{num1+num2}\")\n",
    "elif(choice==2):\n",
    " print(f\"Sub:{num1-num2}\")\n",
    "elif(choice==3):\n",
    " print(f\"Mul:{num1*num2}\")\n",
    "elif(choice==4):\n",
    " print(f\"Div:{num1/num2}\")\n",
    "else:\n",
    " print(\"Enter Proper Number\")\n"
   ]
  },
  {
   "cell_type": "markdown",
   "metadata": {},
   "source": [
    "### 08) WAP to read marks of five subjects. Calculate percentage and print class accordingly. \n",
    "Fail below 35 </br>\n",
    "Pass Class between 35 to 45 </br>\n",
    "Second Class</br>\n",
    "between 45 to 60</br>\n",
    "First Class between 60 to 70</br> \n",
    "Distinction if more than 70"
   ]
  },
  {
   "cell_type": "code",
   "execution_count": 25,
   "metadata": {},
   "outputs": [
    {
     "name": "stdout",
     "output_type": "stream",
     "text": [
      "Enter Pysics Mark:45\n",
      "Enter Math Mark:65\n",
      "Enter Ds Mark:86\n",
      "Enter python Mark:95\n",
      "Enter java Mark:56\n",
      "First Calss:69.39999999999999\n"
     ]
    }
   ],
   "source": [
    "pysics = int(input(\"Enter Pysics Mark:\"))\n",
    "math = int(input(\"Enter Math Mark:\"))\n",
    "ds = int(input(\"Enter Ds Mark:\"))\n",
    "python = int(input(\"Enter python Mark:\"))\n",
    "java = int(input(\"Enter java Mark:\"))\n",
    "pre = ((pysics + math + ds + python + java) / 500)*100\n",
    "if(pre>70):\n",
    " print(f\"Distinction:{pre}\")\n",
    "elif(pre>60 and pre<70):\n",
    " print(f\"First Calss:{pre}\")\n",
    "elif(pre>45 and pre<60):\n",
    " print(f\"Second Calss:{pre}\")\n",
    "elif(pre>35 and pre<45):\n",
    " print(f\"PASS Calss:{pre}\")\n",
    "else:\n",
    " print(f\"Fail:{pre}\")"
   ]
  },
  {
   "cell_type": "markdown",
   "metadata": {},
   "source": [
    "### 09) Three sides of a triangle are entered through the keyboard, WAP to check whether the triangle is isosceles, equilateral, scalene or right-angled triangle."
   ]
  },
  {
   "cell_type": "code",
   "execution_count": 34,
   "metadata": {},
   "outputs": [
    {
     "name": "stdout",
     "output_type": "stream",
     "text": [
      "Enter the length of the first side: 3\n",
      "Enter the length of the second side: 4\n",
      "Enter the length of the third side: 5\n",
      "Right-Angled Triangle\n"
     ]
    }
   ],
   "source": [
    "a = float(input(\"Enter the length of the first side: \"))\n",
    "b = float(input(\"Enter the length of the second side: \"))\n",
    "c = float(input(\"Enter the length of the third side: \"))\n",
    "\n",
    "if (a + b > c and a + c > b and b + c > a):\n",
    "    if (a == b == c):\n",
    "        print(\"Equilateral Triangle\")\n",
    "    elif (a == b or b == c or a == c):\n",
    "        print(\"Isosceles Triangle\")\n",
    "    elif (a != b and b != c and a != c):\n",
    "        sides = sorted([a, b, c])\n",
    "        if (sides[0]**2 + sides[1]**2 == sides[2]**2):\n",
    "            print(\"Right-Angled Triangle\")\n",
    "        else:\n",
    "            print(\"Scalene Triangle\")\n",
    "else:\n",
    "    print(\"The given sides do not form a valid triangle.\")\n"
   ]
  },
  {
   "cell_type": "code",
   "execution_count": null,
   "metadata": {},
   "outputs": [],
   "source": []
  },
  {
   "cell_type": "markdown",
   "metadata": {},
   "source": [
    "### 10) WAP to find the second largest number among three user input numbers."
   ]
  },
  {
   "cell_type": "code",
   "execution_count": 28,
   "metadata": {},
   "outputs": [
    {
     "name": "stdout",
     "output_type": "stream",
     "text": [
      "Enter Number:15\n",
      "Enter Number:12\n",
      "Enter Number:45\n",
      "number 1 is second largest 15\n"
     ]
    }
   ],
   "source": [
    "num1 = int(input(\"Enter Number:\"))\n",
    "num2 = int(input(\"Enter Number:\"))\n",
    "num3 = int(input(\"Enter Number:\"))\n",
    "if(num1>=num2):\n",
    "    if(num1>=num3):\n",
    "        if(num2>num3):\n",
    "            print(\"number 2 is second largest\",num2)\n",
    "        else:\n",
    "            print(\"number 3 is second largest\",num3)\n",
    "    else:\n",
    "        if(num1>num2):\n",
    "            print(\"number 1 is second largest\",num1)\n",
    "        else:\n",
    "            print(\"number 2 is second largest\",num2)\n",
    "else:\n",
    "    if(num2>=num3):\n",
    "        if(num1>num3):\n",
    "            print(\"number 1 is second largest\",num1)\n",
    "        else:\n",
    "            print(\"number 3 is second largest\",num3)\n",
    "    else:\n",
    "        if(num1>num2):\n",
    "            print(\"number 1 is second largest\",num1)\n",
    "        else:\n",
    "            print(\"number 2 is second largest\",num2)         "
   ]
  },
  {
   "cell_type": "markdown",
   "metadata": {},
   "source": [
    "### 11) WAP to calculate electricity bill based on following criteria. Which takes the unit from the user.\n",
    "a. First 1 to 50 units – Rs. 2.60/unit</br>\n",
    "b. Next 50 to 100 units – Rs. 3.25/unit</br>\n",
    "c. Next 100 to 200 units – Rs. 5.26/unit</br>\n",
    "d. above 200 units – Rs. 8.45/unit"
   ]
  },
  {
   "cell_type": "code",
   "execution_count": 29,
   "metadata": {},
   "outputs": [
    {
     "name": "stdout",
     "output_type": "stream",
     "text": [
      "Enter Electric Unit:152\n",
      "Ans:566.02\n"
     ]
    }
   ],
   "source": [
    "unit = int(input(\"Enter Electric Unit:\"))\n",
    "if(unit>1 and unit<50):\n",
    " ans = unit * 2.60\n",
    "elif(unit<100):\n",
    " ans = 130 + ((unit - 50) * 3.25)\n",
    "elif(unit<=200):\n",
    " ans = 292.5 + ((unit - 100) * 5.26)\n",
    "else:\n",
    " ans = 818.5 + ((unit - 200) * 8.45)\n",
    "\n",
    "print(f\"Ans:{ans}\")"
   ]
  },
  {
   "cell_type": "code",
   "execution_count": null,
   "metadata": {},
   "outputs": [],
   "source": []
  }
 ],
 "metadata": {
  "kernelspec": {
   "display_name": "Python 3 (ipykernel)",
   "language": "python",
   "name": "python3"
  },
  "language_info": {
   "codemirror_mode": {
    "name": "ipython",
    "version": 3
   },
   "file_extension": ".py",
   "mimetype": "text/x-python",
   "name": "python",
   "nbconvert_exporter": "python",
   "pygments_lexer": "ipython3",
   "version": "3.10.9"
  }
 },
 "nbformat": 4,
 "nbformat_minor": 4
}
